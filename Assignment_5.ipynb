{
 "cells": [
  {
   "cell_type": "code",
   "execution_count": 3,
   "id": "dac74773",
   "metadata": {},
   "outputs": [],
   "source": [
    "1. What does an empty dictionary's code look like?\n",
    "\n",
    "a={}"
   ]
  },
  {
   "cell_type": "code",
   "execution_count": null,
   "id": "62958645",
   "metadata": {},
   "outputs": [],
   "source": [
    "\n",
    "2. What is the value of a dictionary value with the key 'foo' and the value 42?\n",
    "42"
   ]
  },
  {
   "cell_type": "code",
   "execution_count": null,
   "id": "dec7a374",
   "metadata": {},
   "outputs": [],
   "source": [
    "3. What is the most significant distinction between a dictionary and a list?\n",
    "\n",
    "Dictionaries have key and values pairs where lists have only values.\n"
   ]
  },
  {
   "cell_type": "code",
   "execution_count": null,
   "id": "5f51b0be",
   "metadata": {},
   "outputs": [],
   "source": [
    "\n",
    "4. What happens if you try to access spam['foo'] if spam is {'bar': 100}?\n",
    "\n",
    "It will throw error.\n"
   ]
  },
  {
   "cell_type": "code",
   "execution_count": null,
   "id": "0585af24",
   "metadata": {},
   "outputs": [],
   "source": [
    "5. If a dictionary is stored in spam, what is the difference between the expressions 'cat' in spam and 'cat' in spam.keys()?\n",
    "\n",
    "There is no difference. 'cat' in spam will check whether spam has 'cat' as one of its keys. It will return True if this is true.\n",
    "'cat' in spam.keys() will do the same. It will return True if this is true.\n",
    "\n",
    "'cat' in spam.keys()\n",
    "True\n",
    "\n",
    "'cat' in spam\n",
    "True"
   ]
  },
  {
   "cell_type": "code",
   "execution_count": null,
   "id": "e1e01cf2",
   "metadata": {},
   "outputs": [],
   "source": [
    "\n",
    "6. If a dictionary is stored in spam, what is the difference between the expressions 'cat' in spam and 'cat' in spam.values()?\n",
    "\n",
    "'cat' in spam will check whether spam has 'cat' as one of its keys. It will return True if this is true.\n",
    "'cat' in spam.values() will check whether the dictionary has a value 'cat' for one of its keys.\n"
   ]
  },
  {
   "cell_type": "code",
   "execution_count": null,
   "id": "56f5d8b0",
   "metadata": {},
   "outputs": [],
   "source": [
    "\n",
    "7. What is a shortcut for the following code?\n",
    "if 'color' not in spam:\n",
    "spam['color'] = 'black'\n",
    "\n",
    "spam.setdefault('color', 'black')"
   ]
  },
  {
   "cell_type": "code",
   "execution_count": null,
   "id": "a7bb1dfa",
   "metadata": {},
   "outputs": [],
   "source": [
    "\n",
    "8. How do you \"pretty print\" dictionary values using which module and function?\n",
    "UWe can pretty print a dictionary by using  pprint module and pprint function.\n",
    "It sorts the dictionary’s values by key.\n",
    "import pprint\n",
    "\n",
    "dct_arr = [\n",
    "  {'Name': 'John', 'Age': '23', 'Country': 'USA'},\n",
    "  {'Name': 'Jose', 'Age': '44', 'Country': 'Spain'},\n",
    "  {'Name': 'Anne', 'Age': '29', 'Country': 'UK'},\n",
    "  {'Name': 'Lee', 'Age': '35', 'Country': 'Japan'}\n",
    "]\n",
    "\n",
    "pprint.pprint(dct_arr)\n",
    "\n",
    "Output:\n",
    "    [{'Age': '23', 'Country': 'USA', 'Name': 'John'},\n",
    " {'Age': '44', 'Country': 'Spain', 'Name': 'Jose'},\n",
    " {'Age': '29', 'Country': 'UK', 'Name': 'Anne'},\n",
    " {'Age': '35', 'Country': 'Japan', 'Name': 'Lee'}]"
   ]
  }
 ],
 "metadata": {
  "kernelspec": {
   "display_name": "Python 3 (ipykernel)",
   "language": "python",
   "name": "python3"
  },
  "language_info": {
   "codemirror_mode": {
    "name": "ipython",
    "version": 3
   },
   "file_extension": ".py",
   "mimetype": "text/x-python",
   "name": "python",
   "nbconvert_exporter": "python",
   "pygments_lexer": "ipython3",
   "version": "3.9.7"
  }
 },
 "nbformat": 4,
 "nbformat_minor": 5
}
